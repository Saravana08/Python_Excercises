{
 "cells": [
  {
   "cell_type": "code",
   "execution_count": 3,
   "metadata": {},
   "outputs": [],
   "source": [
    "# Q1 \n",
    "# Write a function called fizz_buzz that takes a number.\n",
    "# If the number is divisible by 3, it should return “Fizz”.\n",
    "# If it is divisible by 5, it should return “Buzz”.\n",
    "# If it is divisible by both 3 and 5, it should return “FizzBuzz”.\n",
    "# Otherwise, it should return the same number."
   ]
  },
  {
   "cell_type": "code",
   "execution_count": 4,
   "metadata": {},
   "outputs": [],
   "source": [
    "#Q2\n",
    "# Generate random numbers of rows and columns based on the input given by the user.\n",
    "\n",
    "# sample output if the no of rows and columns are 1 and 2\n",
    "\n",
    "    #    0 1 2\n",
    "    #  0 3 3 7\n",
    "    #  1 5 6 7"
   ]
  },
  {
   "cell_type": "code",
   "execution_count": 5,
   "metadata": {},
   "outputs": [],
   "source": [
    "# Q3\n",
    "# Write a function for checking the speed of drivers. This function should have one parameter: speed.\n",
    "# If speed is less than 70, it should print “Ok”.\n",
    "# Otherwise, for every 5km above the speed limit (70), it should give the driver one demerit point and print the total number of demerit points. For example, if the speed is 80, it should print: “Points: 2”.\n",
    "# If the driver gets more than 12 points, the function should print: “License suspended”"
   ]
  },
  {
   "cell_type": "code",
   "execution_count": 7,
   "metadata": {},
   "outputs": [],
   "source": [
    "# Q4\n",
    "#Question no 4 to sort the table based on name, age and the scores\n",
    "\n",
    "# Created the table here\n",
    "table = [('John',25,154),('Dave',43,156),('John',28,156),('Eve',24,162),('John',28,200)]\n"
   ]
  },
  {
   "cell_type": "code",
   "execution_count": 8,
   "metadata": {},
   "outputs": [],
   "source": [
    "# Q5\n",
    "# Write a function that returns the sum of multiples of 3 and 5 between 0 and limit (parameter). \n",
    "# For example, if limit is 20, it should return the sum of 3, 5, 6, 9, 10, 12, 15, 18, 20."
   ]
  },
  {
   "cell_type": "code",
   "execution_count": 10,
   "metadata": {},
   "outputs": [],
   "source": [
    "# Q6\n",
    "# Question no 8 retrieving the data from the url\n",
    "# url='https://www.amazon.in/gp/bestsellers/books?pd_rd_wg=txMgx&pd_rd_r=f847931f-6119-4aba-8778-6be5e2c79510&pd_rd_w=9ugYV&ref_=pd_gw_ri&pf_rd_r=3MQ9W6KM43N94Y3XP3GS&pf_rd_p=23e9446b-7dfa-5928-9998-2bf6ba94494d'"
   ]
  },
  {
   "cell_type": "code",
   "execution_count": 11,
   "metadata": {},
   "outputs": [],
   "source": [
    "# Q7\n",
    "# Print the python version you are using"
   ]
  },
  {
   "cell_type": "code",
   "execution_count": 12,
   "metadata": {},
   "outputs": [],
   "source": [
    "# Q8\n",
    "#Twinkle, twinkle, little star, \n",
    "#    How I wonder what you are! \n",
    "#       Up above the world so high, \n",
    "#       Like a diamond in the sky. \n",
    "#Twinkle, twinkle, little star, \n",
    "#    How I wonder what you are\n",
    "\n",
    "\n",
    "# Print the above string in the same format"
   ]
  },
  {
   "cell_type": "code",
   "execution_count": 13,
   "metadata": {},
   "outputs": [],
   "source": [
    "# Q9\n",
    "# Get the Area of a Circle with the given radius"
   ]
  },
  {
   "cell_type": "code",
   "execution_count": 14,
   "metadata": {},
   "outputs": [],
   "source": [
    "#Q10\n",
    "# Print the name of the user with proper salutaion\n",
    "# for eg when we give the name it should print :- Welcome Mr Abdul Kalam"
   ]
  },
  {
   "cell_type": "code",
   "execution_count": null,
   "metadata": {},
   "outputs": [],
   "source": []
  },
  {
   "cell_type": "code",
   "execution_count": null,
   "metadata": {},
   "outputs": [],
   "source": []
  }
 ],
 "metadata": {
  "kernelspec": {
   "display_name": "Python 3",
   "language": "python",
   "name": "python3"
  },
  "language_info": {
   "codemirror_mode": {
    "name": "ipython",
    "version": 3
   },
   "file_extension": ".py",
   "mimetype": "text/x-python",
   "name": "python",
   "nbconvert_exporter": "python",
   "pygments_lexer": "ipython3",
   "version": "3.6.4"
  }
 },
 "nbformat": 4,
 "nbformat_minor": 2
}
