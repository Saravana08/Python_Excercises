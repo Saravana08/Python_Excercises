{
 "cells": [
  {
   "cell_type": "code",
   "execution_count": 1,
   "metadata": {},
   "outputs": [],
   "source": [
    "# Q1\n",
    "# Write a function called fizz_buzz that takes a number.\n",
    "# If the number is divisible by 3, it should return “Fizz”.\n",
    "# If it is divisible by 5, it should return “Buzz”.\n",
    "# If it is divisible by both 3 and 5, it should return “FizzBuzz”.\n",
    "# Otherwise, it should return the same number."
   ]
  },
  {
   "cell_type": "code",
   "execution_count": null,
   "metadata": {},
   "outputs": [],
   "source": [
    "def fizzbuzz(n):\n",
    "\n",
    "    if n % 3 == 0 and n % 5 == 0:\n",
    "        return 'FizzBuzz'\n",
    "    elif n % 3 == 0:\n",
    "        return 'Fizz'\n",
    "    elif n % 5 == 0:\n",
    "        return 'Buzz'\n",
    "    else:\n",
    "        return str(n)"
   ]
  },
  {
   "cell_type": "code",
   "execution_count": null,
   "metadata": {},
   "outputs": [],
   "source": [
    "#Q2\n",
    "# Generate random numbers of rows and columns based on the input given by the user.\n",
    "\n",
    "# sample output if the no of rows and columns are 1 and 2\n",
    "\n",
    "    #    0 1 2\n",
    "    #  0 3 3 7\n",
    "    #  1 5 6 7"
   ]
  },
  {
   "cell_type": "code",
   "execution_count": null,
   "metadata": {},
   "outputs": [],
   "source": [
    "import pandas as pd\n",
    "import numpy as np\n",
    "row=int(input('Enter the no of rows required'))\n",
    "columns=int(input('Enter the no of columns required'))\n",
    "\n",
    "try:\n",
    "    a=pd.DataFrame(np.random.randint(low=0, high=10, size=(row, columns)))\n",
    "    print(a)\n",
    "except:\n",
    "    print('Please enter the no of rows and columns required')"
   ]
  },
  {
   "cell_type": "code",
   "execution_count": null,
   "metadata": {},
   "outputs": [],
   "source": [
    "# Q3\n",
    "# Write a function for checking the speed of drivers. This function should have one parameter: speed.\n",
    "# If speed is less than 70, it should print “Ok”.\n",
    "# Otherwise, for every 5km above the speed limit (70), it should give the driver one demerit point and print the total number of demerit points. For example, if the speed is 80, it should print: “Points: 2”.\n",
    "# If the driver gets more than 12 points, the function should print: “License suspended”"
   ]
  },
  {
   "cell_type": "code",
   "execution_count": 5,
   "metadata": {},
   "outputs": [],
   "source": [
    "def speed_check(speed):\n",
    "    if speed <= 70:\n",
    "        return \"OK\"\n",
    "\n",
    "    else:\n",
    "        speed1 = (speed-70)//5\n",
    "\n",
    "        if speed1 <= 12:\n",
    "            return print(f\"Point: {speed1}\")\n",
    "\n",
    "        else:\n",
    "            return print(\"License suspended\")\n",
    "        \n",
    "enter = speed_check(int(input(\"Enter speed: \")))\n",
    "print(enter)"
   ]
  },
  {
   "cell_type": "code",
   "execution_count": null,
   "metadata": {},
   "outputs": [],
   "source": [
    "# Q4\n",
    "#Question no 4 to sort the table based on name, age and the scores\n",
    "\n",
    "# Created the table here\n",
    "table = [('John',25,154),('Dave',43,156),('John',28,156),('Eve',24,162),('John',28,200)]\n"
   ]
  },
  {
   "cell_type": "code",
   "execution_count": null,
   "metadata": {},
   "outputs": [],
   "source": [
    "ans= sorted(table)\n",
    "# we can find the sorted result\n",
    "ans"
   ]
  },
  {
   "cell_type": "code",
   "execution_count": 2,
   "metadata": {},
   "outputs": [],
   "source": [
    "# Q5\n",
    "# Write a function that returns the sum of multiples of 3 and 5 between 0 and limit (parameter). \n",
    "# For example, if limit is 20, it should return the sum of 3, 5, 6, 9, 10, 12, 15, 18, 20."
   ]
  },
  {
   "cell_type": "code",
   "execution_count": 13,
   "metadata": {},
   "outputs": [
    {
     "name": "stdout",
     "output_type": "stream",
     "text": [
      "Enter a number (parameter)20\n",
      "98\n"
     ]
    }
   ],
   "source": [
    "nums = [3, 5]\n",
    "max = int(input('Enter a number (parameter)'))\n",
    "\n",
    "result = 0\n",
    "for i in range(0,max+1):\n",
    "    if i%3 == 0 or i%5 == 0:\n",
    "        result += i\n",
    "\n",
    "print(result)"
   ]
  },
  {
   "cell_type": "code",
   "execution_count": 14,
   "metadata": {},
   "outputs": [],
   "source": [
    "# Q6\n",
    "#  retrieving the data from the url\n",
    "# url='https://www.amazon.in/gp/bestsellers/books?pd_rd_wg=txMgx&pd_rd_r=f847931f-6119-4aba-8778-6be5e2c79510&pd_rd_w=9ugYV&ref_=pd_gw_ri&pf_rd_r=3MQ9W6KM43N94Y3XP3GS&pf_rd_p=23e9446b-7dfa-5928-9998-2bf6ba94494d'"
   ]
  },
  {
   "cell_type": "code",
   "execution_count": 17,
   "metadata": {},
   "outputs": [
    {
     "name": "stdout",
     "output_type": "stream",
     "text": [
      "https://images\n",
      "http://www.w3.org/2000/svg\n",
      "https://images\n",
      "https://images\n",
      "https://www.amazon.in/gp/bestsellers/books\n",
      "https://images\n",
      "https://images\n",
      "https://images\n",
      "https://images\n",
      "https://images\n",
      "https://images\n",
      "https://images\n",
      "https://images\n",
      "https://images\n",
      "https://images\n",
      "https://images\n",
      "https://images\n",
      "https://images\n",
      "https://www.amazon.in/ap/signin\n",
      "https://www.amazon.in/gp/cart/view.html\n",
      "https://www.amazon.in/music/prime\n",
      "https://images\n",
      "https://images\n",
      "https://images\n",
      "https://images\n",
      "https://images\n",
      "https://images\n",
      "https://images\n",
      "https://images\n",
      "https://images\n",
      "https://images\n",
      "https://images\n",
      "https://images\n",
      "http://www.amazon.in/musi\n",
      "https://www.amazon.in/a\n",
      "https://www.amazon.in\n",
      "https://music.amazon.in/home\n",
      "http://www.amazon.in/music/prime\n",
      "https://www.primevideo.com/storefront/movie/ref\n",
      "https://www.primevideo.com/storefront/tv/ref\n",
      "https://www.primevideo.com/storefront/kids/ref\n",
      "https://www.\n",
      "https://www.amazon.in/ap/register\n",
      "http://www.amazon.i\n",
      "https://music.amazon.in/home\n",
      "https://images\n",
      "https://images\n",
      "https://images\n",
      "https://images\n",
      "https://images\n",
      "https://images\n",
      "https://images\n",
      "https://images\n",
      "https://images\n",
      "https://images\n",
      "https://images\n",
      "https://images\n",
      "https://images\n",
      "https://images\n",
      "https://images\n",
      "https://images\n",
      "https://images\n",
      "https://images\n",
      "https://images\n"
     ]
    },
    {
     "ename": "UnicodeDecodeError",
     "evalue": "'utf-8' codec can't decode byte 0xe2 in position 127: unexpected end of data",
     "output_type": "error",
     "traceback": [
      "\u001b[1;31m---------------------------------------------------------------------------\u001b[0m",
      "\u001b[1;31mUnicodeDecodeError\u001b[0m                        Traceback (most recent call last)",
      "\u001b[1;32m<ipython-input-17-a66958b0fec5>\u001b[0m in \u001b[0;36m<module>\u001b[1;34m()\u001b[0m\n\u001b[0;32m     12\u001b[0m \u001b[1;33m\u001b[0m\u001b[0m\n\u001b[0;32m     13\u001b[0m \u001b[1;32mfor\u001b[0m \u001b[0mline\u001b[0m \u001b[1;32min\u001b[0m \u001b[0mfhand\u001b[0m\u001b[1;33m:\u001b[0m\u001b[1;33m\u001b[0m\u001b[0m\n\u001b[1;32m---> 14\u001b[1;33m     \u001b[0mline\u001b[0m\u001b[1;33m=\u001b[0m\u001b[0mline\u001b[0m\u001b[1;33m.\u001b[0m\u001b[0mdecode\u001b[0m\u001b[1;33m(\u001b[0m\u001b[1;34m'utf-8'\u001b[0m\u001b[1;33m)\u001b[0m\u001b[1;33m\u001b[0m\u001b[0m\n\u001b[0m\u001b[0;32m     15\u001b[0m     \u001b[0mres\u001b[0m\u001b[1;33m=\u001b[0m \u001b[0mre\u001b[0m\u001b[1;33m.\u001b[0m\u001b[0msearch\u001b[0m\u001b[1;33m(\u001b[0m\u001b[1;34m'https?://[A-Za-z0-9./]+'\u001b[0m\u001b[1;33m,\u001b[0m\u001b[0mline\u001b[0m\u001b[1;33m)\u001b[0m\u001b[1;33m\u001b[0m\u001b[0m\n\u001b[0;32m     16\u001b[0m     \u001b[1;32mif\u001b[0m \u001b[0mres\u001b[0m\u001b[1;33m!=\u001b[0m \u001b[1;32mNone\u001b[0m\u001b[1;33m:\u001b[0m\u001b[1;33m\u001b[0m\u001b[0m\n",
      "\u001b[1;31mUnicodeDecodeError\u001b[0m: 'utf-8' codec can't decode byte 0xe2 in position 127: unexpected end of data"
     ]
    }
   ],
   "source": [
    "import urllib\n",
    "import urllib.request\n",
    "import re\n",
    "import requests\n",
    "from bs4 import BeautifulSoup\n",
    "import bs4\n",
    "import sqlite3\n",
    "\n",
    "url='https://www.amazon.in/gp/bestsellers/books?pd_rd_wg=txMgx&pd_rd_r=f847931f-6119-4aba-8778-6be5e2c79510&pd_rd_w=9ugYV&ref_=pd_gw_ri&pf_rd_r=3MQ9W6KM43N94Y3XP3GS&pf_rd_p=23e9446b-7dfa-5928-9998-2bf6ba94494d'\n",
    "\n",
    "fhand=requests.get(url)\n",
    "\n",
    "for line in fhand:\n",
    "    line=line.decode('utf-8')\n",
    "    res= re.search('https?://[A-Za-z0-9./]+',line)\n",
    "    if res!= None:\n",
    "        print(res.group())\n"
   ]
  },
  {
   "cell_type": "code",
   "execution_count": null,
   "metadata": {},
   "outputs": [],
   "source": [
    "# Q7\n",
    "# Print the python version you are using"
   ]
  },
  {
   "cell_type": "code",
   "execution_count": null,
   "metadata": {},
   "outputs": [],
   "source": [
    "import sys\n",
    "sys.version"
   ]
  },
  {
   "cell_type": "code",
   "execution_count": null,
   "metadata": {},
   "outputs": [],
   "source": [
    "# Q8\n",
    "#Twinkle, twinkle, little star, \n",
    "#    How I wonder what you are! \n",
    "#       Up above the world so high, \n",
    "#       Like a diamond in the sky. \n",
    "#Twinkle, twinkle, little star, \n",
    "#    How I wonder what you are\n",
    "\n",
    "\n",
    "# Print the above string in the same format"
   ]
  },
  {
   "cell_type": "code",
   "execution_count": null,
   "metadata": {},
   "outputs": [],
   "source": [
    "print(\"Twinkle, twinkle, little star, \\n\\tHow I wonder what you are! \\n\\t\\tUp above the world so high, \\n\\t\\tLike a diamond in the sky. \\nTwinkle, twinkle, little star, \\n\\tHow I wonder what you are!\")\n",
    "\n",
    "\n",
    "# here we have /n to write down and /t to tab some space"
   ]
  },
  {
   "cell_type": "code",
   "execution_count": null,
   "metadata": {},
   "outputs": [],
   "source": [
    "# Q9\n",
    "# Get the Area of a Circle with the given radius"
   ]
  },
  {
   "cell_type": "code",
   "execution_count": null,
   "metadata": {},
   "outputs": [],
   "source": [
    "pi =3.14\n",
    "r=float(input('Enter the radius of the circle'))\n",
    "area = pi*r*r\n",
    "print('Area of the circle is',area)"
   ]
  },
  {
   "cell_type": "code",
   "execution_count": null,
   "metadata": {},
   "outputs": [],
   "source": [
    "#Q10\n",
    "# Print the name of the user with proper salutaion\n",
    "# for eg when we give the name it should print :- Welcome Mr Abdul Kalam"
   ]
  },
  {
   "cell_type": "code",
   "execution_count": null,
   "metadata": {},
   "outputs": [],
   "source": [
    "Name = ''\n",
    "\n",
    "# Prompt user for user-defined information\n",
    "Name = str(input('What is your Name? '))\n",
    "print ('Welcome',Name)"
   ]
  }
 ],
 "metadata": {
  "kernelspec": {
   "display_name": "Python 3",
   "language": "python",
   "name": "python3"
  },
  "language_info": {
   "codemirror_mode": {
    "name": "ipython",
    "version": 3
   },
   "file_extension": ".py",
   "mimetype": "text/x-python",
   "name": "python",
   "nbconvert_exporter": "python",
   "pygments_lexer": "ipython3",
   "version": "3.6.4"
  }
 },
 "nbformat": 4,
 "nbformat_minor": 2
}
