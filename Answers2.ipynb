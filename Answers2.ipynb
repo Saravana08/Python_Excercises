{
 "cells": [
  {
   "cell_type": "code",
   "execution_count": 1,
   "metadata": {},
   "outputs": [],
   "source": [
    "# Q1\n",
    "# Accept a file name from the user and print out its extention"
   ]
  },
  {
   "cell_type": "code",
   "execution_count": null,
   "metadata": {},
   "outputs": [],
   "source": [
    "fname = 'saravana.json'\n",
    "\n",
    "name = fname.split('.')\n",
    "name[-1]"
   ]
  },
  {
   "cell_type": "code",
   "execution_count": null,
   "metadata": {},
   "outputs": [],
   "source": [
    "# Q2\n",
    "# print difference of two given date"
   ]
  },
  {
   "cell_type": "code",
   "execution_count": 4,
   "metadata": {},
   "outputs": [
    {
     "name": "stdout",
     "output_type": "stream",
     "text": [
      "Difference between two dates is 1461\n"
     ]
    }
   ],
   "source": [
    "class Date:  \n",
    "    def __init__(self, d, m, y):  \n",
    "        self.d = d          \n",
    "        self.m = m  \n",
    "        self.y = y  \n",
    "  \n",
    "# To store number of days in \n",
    "# all months from January to Dec.  \n",
    "monthDays = [31, 28, 31, 30, 31, 30,  \n",
    "             31, 31, 30, 31, 30, 31 ] \n",
    "  \n",
    "# This function counts number of  \n",
    "# leap years before the given date  \n",
    "def countLeapYears(d): \n",
    "      \n",
    "    years = d.y  \n",
    "      \n",
    "    # Check if the current year needs  \n",
    "    # to be considered for the count \n",
    "    # of leap years or not  \n",
    "    if (d.m <= 2) : \n",
    "        years -= 1\n",
    "          \n",
    "    # An year is a leap year if it is a \n",
    "    # multiple of 4, multiple of 400 and \n",
    "    # not a multiple of 100.  \n",
    "    return int(years / 4 - years / 100 + \n",
    "                           years / 400 ) \n",
    "  \n",
    "# This function returns number of  \n",
    "# days between two given dates  \n",
    "def getDifference(dt1, dt2) : \n",
    "  \n",
    "    # COUNT TOTAL NUMBER OF DAYS  \n",
    "    # BEFORE FIRST DATE 'dt1'  \n",
    "  \n",
    "    # initialize count using years and day  \n",
    "    n1 = dt1.y * 365 + dt1.d  \n",
    "  \n",
    "    # Add days for months in given date  \n",
    "    for i in range(0, dt1.m - 1) : \n",
    "        n1 += monthDays[i]  \n",
    "  \n",
    "    # Since every leap year is of 366 days,  \n",
    "    # Add a day for every leap year  \n",
    "    n1 += countLeapYears(dt1)  \n",
    "  \n",
    "    # SIMILARLY, COUNT TOTAL NUMBER  \n",
    "    # OF DAYS BEFORE 'dt2'  \n",
    "    n2 = dt2.y * 365 + dt2.d  \n",
    "    for i in range(0, dt2.m - 1) : \n",
    "        n2 += monthDays[i]  \n",
    "    n2 += countLeapYears(dt2)  \n",
    "  \n",
    "    # return difference between  \n",
    "    # two counts  \n",
    "    return (n2 - n1)  \n",
    "  \n",
    "# Driver Code \n",
    "dt1 = Date(1, 2, 2000 ) \n",
    "dt2 = Date(1, 2, 2004 ) \n",
    "  \n",
    "print(\"Difference between two dates is\",  \n",
    "                getDifference(dt1, dt2)) "
   ]
  },
  {
   "cell_type": "code",
   "execution_count": 5,
   "metadata": {},
   "outputs": [],
   "source": [
    "# Q3\n",
    "# Create function to compute the absolute difference between two given numbers"
   ]
  },
  {
   "cell_type": "code",
   "execution_count": 8,
   "metadata": {},
   "outputs": [
    {
     "name": "stdout",
     "output_type": "stream",
     "text": [
      "7\n"
     ]
    }
   ],
   "source": [
    "def absdifference(a,b):\n",
    "    ans = abs(a-b)\n",
    "    return ans\n",
    "  \n",
    "\n",
    "\n",
    "print(absdifference(3,-4))"
   ]
  },
  {
   "cell_type": "code",
   "execution_count": null,
   "metadata": {},
   "outputs": [],
   "source": [
    "# Q4\n",
    "# Print the Sum of 3 given numbers, but if these numbers are equal print the sum*3"
   ]
  },
  {
   "cell_type": "code",
   "execution_count": null,
   "metadata": {},
   "outputs": [],
   "source": [
    "def sum_thrice(x, y, z):\n",
    "\n",
    "    sum = x + y + z\n",
    "  \n",
    "    if x == y == z:\n",
    "        sum = sum * 3\n",
    "    return sum\n",
    "\n",
    "print(sum_thrice(1, 2, 3))\n",
    "print(sum_thrice(3, 3, 3))"
   ]
  },
  {
   "cell_type": "code",
   "execution_count": null,
   "metadata": {},
   "outputs": [],
   "source": [
    "# Q5\n",
    "# Count the no of 4 in the list [1,2,3,4,4,3,2,1]"
   ]
  },
  {
   "cell_type": "code",
   "execution_count": 11,
   "metadata": {},
   "outputs": [
    {
     "name": "stdout",
     "output_type": "stream",
     "text": [
      "2\n"
     ]
    }
   ],
   "source": [
    "# Counts the number of times 4 appears in list1 \n",
    "print(list1.count(4)) "
   ]
  },
  {
   "cell_type": "code",
   "execution_count": null,
   "metadata": {},
   "outputs": [],
   "source": [
    "# Q6\n",
    "# Print all even numbers from a given numbers list in the same order \n",
    "#  if any numbers that come after 237 in the sequence, stop printing\n",
    "\n",
    "'''numbers = [386, 462, 47, 418, 907, 344, 236, 375, 823, 566, 597, 978, 328, 615, 953, 345, \n",
    "    399, 162, 758, 219, 918, 237, 412, 566, 826, 248, 866, 950, 626, 949, 687, 217, \n",
    "    815, 67, 104, 58, 512, 24, 892, 894, 767, 553, 81, 379, 843, 831, 445, 742, 717, \n",
    "    958,743, 527]'''"
   ]
  },
  {
   "cell_type": "code",
   "execution_count": 15,
   "metadata": {},
   "outputs": [
    {
     "name": "stdout",
     "output_type": "stream",
     "text": [
      "386\n",
      "462\n",
      "418\n",
      "344\n",
      "236\n",
      "566\n",
      "978\n",
      "328\n",
      "162\n",
      "758\n",
      "918\n",
      "237\n"
     ]
    }
   ],
   "source": [
    "for x in numbers:\n",
    "    if x == 237:\n",
    "        print(x)\n",
    "        break;\n",
    "    elif x % 2 == 0:\n",
    "        print(x)"
   ]
  },
  {
   "cell_type": "code",
   "execution_count": 16,
   "metadata": {},
   "outputs": [],
   "source": [
    "# Q7\n",
    "# print the difference in two lists, \n",
    "color_list_2 = set([\"Red\", \"Green\"])\n",
    "color_list_1 = set([\"White\", \"Black\", \"Red\"])"
   ]
  },
  {
   "cell_type": "code",
   "execution_count": 17,
   "metadata": {},
   "outputs": [
    {
     "data": {
      "text/plain": [
       "{'Green'}"
      ]
     },
     "execution_count": 17,
     "metadata": {},
     "output_type": "execute_result"
    }
   ],
   "source": [
    "color_list_2.difference(color_list_1)"
   ]
  },
  {
   "cell_type": "code",
   "execution_count": null,
   "metadata": {},
   "outputs": [],
   "source": [
    "# Q8\n",
    "# Print area of a triangle for a given lengths"
   ]
  },
  {
   "cell_type": "code",
   "execution_count": 18,
   "metadata": {},
   "outputs": [],
   "source": [
    "def findArea(a,b,c):  \n",
    "  \n",
    "    # must be smaller than third side.  \n",
    "    if (a < 0 or b < 0 or c < 0 or (a+b <= c) or (a+c <=b) or (b+c <=a) ):  \n",
    "        print('Not a valid trianglen')  \n",
    "        return\n",
    "          \n",
    "    # calculate the semi-perimeter  \n",
    "    s = (a + b + c) / 2\n",
    "      \n",
    "    # calculate the area  \n",
    "    area = (s * (s - a) * (s - b) * (s - c)) ** 0.5\n",
    "    print('Area of a traingle is %f' %area)  "
   ]
  },
  {
   "cell_type": "code",
   "execution_count": null,
   "metadata": {},
   "outputs": [],
   "source": [
    "# Q9\n",
    "# Calculate the BMI based on the input = formual is weight/m2\n"
   ]
  },
  {
   "cell_type": "code",
   "execution_count": 23,
   "metadata": {},
   "outputs": [
    {
     "name": "stdout",
     "output_type": "stream",
     "text": [
      "Please enter your height input inputches: 5.9\n",
      "Please enter your weight input pounds(whole number): 62\n",
      "your BMI is 1252.1114622234988\n"
     ]
    }
   ],
   "source": [
    "height = float(input('Please enter your height input inputches: '))\n",
    "weight = int(input('Please enter your weight input pounds(whole number): '))\n",
    "bmi = (weight*703)/(height*height)\n",
    "print('your BMI is',bmi)"
   ]
  },
  {
   "cell_type": "code",
   "execution_count": null,
   "metadata": {},
   "outputs": [],
   "source": [
    "# Q10\n",
    "\n",
    "# program to calculate the sum over a list like s = ([10,20,30])"
   ]
  },
  {
   "cell_type": "code",
   "execution_count": 25,
   "metadata": {},
   "outputs": [
    {
     "name": "stdout",
     "output_type": "stream",
     "text": [
      "\n",
      "Sum of the container:  109\n",
      "\n"
     ]
    }
   ],
   "source": [
    "s = sum([10,20,30,49])\n",
    "print(\"\\nSum of the container: \", s)\n",
    "print()"
   ]
  }
 ],
 "metadata": {
  "kernelspec": {
   "display_name": "Python 3",
   "language": "python",
   "name": "python3"
  },
  "language_info": {
   "codemirror_mode": {
    "name": "ipython",
    "version": 3
   },
   "file_extension": ".py",
   "mimetype": "text/x-python",
   "name": "python",
   "nbconvert_exporter": "python",
   "pygments_lexer": "ipython3",
   "version": "3.6.4"
  }
 },
 "nbformat": 4,
 "nbformat_minor": 2
}
